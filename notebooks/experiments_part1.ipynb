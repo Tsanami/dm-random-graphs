{
 "cells": [
  {
   "cell_type": "markdown",
   "metadata": {},
   "source": [
    "# Part I: Исследование одной статистики на случайных графах\n",
    "В этом ноутбуке мы исследуем поведение статистики $T^{knn} = Δ(G)$ и $T^{dist} = χ_{greedy}(G)$ при разных параметрах распределений и графов."
   ]
  },
  {
   "cell_type": "markdown",
   "metadata": {},
   "source": [
    "## 1. Импорт библиотек и настройка окружения"
   ]
  },
  {
   "cell_type": "code",
   "execution_count": 1,
   "metadata": {},
   "outputs": [],
   "source": [
    "import sys, os\n",
    "sys.path.append(os.path.abspath('..'))"
   ]
  },
  {
   "cell_type": "code",
   "execution_count": 14,
   "metadata": {},
   "outputs": [
    {
     "name": "stdout",
     "output_type": "stream",
     "text": [
      "The autoreload extension is already loaded. To reload it, use:\n",
      "  %reload_ext autoreload\n"
     ]
    }
   ],
   "source": [
    "%load_ext autoreload\n",
    "%autoreload 2\n",
    "import numpy as np\n",
    "import pandas as pd\n",
    "import matplotlib.pyplot as plt\n",
    "from tqdm import tqdm\n",
    "\n",
    "from src.data_utils import sample_stable, sample_normal\n",
    "from src.build_graph import build_knn_graph, build_distance_graph\n",
    "from src.graph_analyzer import GraphAnalyzer\n",
    "from src.test_statistics import T_knn, T_dist\n",
    "from src.mc_runner import run_mc_experiment, aggregate_results"
   ]
  },
  {
   "cell_type": "markdown",
   "metadata": {},
   "source": [
    "## Генерация выборок и анализ с помощью Monte Carlo"
   ]
  },
  {
   "cell_type": "code",
   "execution_count": 12,
   "metadata": {},
   "outputs": [],
   "source": [
    "configs = [\n",
    "    {'dist': 'stable', 'params': {'alpha': 1.0}},\n",
    "    {'dist': 'normal', 'params': {'sigma': 1.0}}\n",
    "]\n",
    "graph_types = ['knn', 'dist']\n",
    "graph_params = {\n",
    "    'knn': [5, 10],\n",
    "    'dist': [0.5, 1.0]\n",
    "}\n",
    "n = 100\n",
    "n_iter = 50"
   ]
  },
  {
   "cell_type": "code",
   "execution_count": 15,
   "metadata": {},
   "outputs": [
    {
     "name": "stdout",
     "output_type": "stream",
     "text": [
      "Запуск: dist=stable, graph=knn, param=5\n"
     ]
    },
    {
     "name": "stderr",
     "output_type": "stream",
     "text": [
      "MC stable-knn: 100%|██████████| 50/50 [00:00<00:00, 1042.89it/s]\n"
     ]
    },
    {
     "name": "stdout",
     "output_type": "stream",
     "text": [
      "Запуск: dist=stable, graph=knn, param=10\n"
     ]
    },
    {
     "name": "stderr",
     "output_type": "stream",
     "text": [
      "MC stable-knn: 100%|██████████| 50/50 [00:00<00:00, 846.61it/s]\n"
     ]
    },
    {
     "name": "stdout",
     "output_type": "stream",
     "text": [
      "Запуск: dist=stable, graph=dist, param=0.5\n"
     ]
    },
    {
     "name": "stderr",
     "output_type": "stream",
     "text": [
      "MC stable-dist: 100%|██████████| 50/50 [00:00<00:00, 157.72it/s]\n"
     ]
    },
    {
     "name": "stdout",
     "output_type": "stream",
     "text": [
      "Запуск: dist=stable, graph=dist, param=1.0\n"
     ]
    },
    {
     "name": "stderr",
     "output_type": "stream",
     "text": [
      "MC stable-dist: 100%|██████████| 50/50 [00:00<00:00, 91.85it/s]\n"
     ]
    },
    {
     "name": "stdout",
     "output_type": "stream",
     "text": [
      "Запуск: dist=normal, graph=knn, param=5\n"
     ]
    },
    {
     "name": "stderr",
     "output_type": "stream",
     "text": [
      "MC normal-knn: 100%|██████████| 50/50 [00:00<00:00, 1250.16it/s]\n"
     ]
    },
    {
     "name": "stdout",
     "output_type": "stream",
     "text": [
      "Запуск: dist=normal, graph=knn, param=10\n"
     ]
    },
    {
     "name": "stderr",
     "output_type": "stream",
     "text": [
      "MC normal-knn: 100%|██████████| 50/50 [00:00<00:00, 872.42it/s]\n"
     ]
    },
    {
     "name": "stdout",
     "output_type": "stream",
     "text": [
      "Запуск: dist=normal, graph=dist, param=0.5\n"
     ]
    },
    {
     "name": "stderr",
     "output_type": "stream",
     "text": [
      "MC normal-dist: 100%|██████████| 50/50 [00:00<00:00, 118.42it/s]\n"
     ]
    },
    {
     "name": "stdout",
     "output_type": "stream",
     "text": [
      "Запуск: dist=normal, graph=dist, param=1.0\n"
     ]
    },
    {
     "name": "stderr",
     "output_type": "stream",
     "text": [
      "MC normal-dist: 100%|██████████| 50/50 [00:00<00:00, 75.20it/s]\n"
     ]
    }
   ],
   "source": [
    "results_list = []\n",
    "for cfg in configs:\n",
    "    for gt in graph_types:\n",
    "        for gp in graph_params[gt]:\n",
    "            print(f\"Запуск: dist={cfg['dist']}, graph={gt}, param={gp}\")\n",
    "            df = run_mc_experiment(\n",
    "                dist=cfg['dist'],\n",
    "                params=cfg['params'],\n",
    "                graph_type=gt,\n",
    "                graph_param=gp,\n",
    "                n=n,\n",
    "                n_iter=n_iter\n",
    "            )\n",
    "            results_list.append(df)"
   ]
  },
  {
   "cell_type": "code",
   "execution_count": 16,
   "metadata": {},
   "outputs": [
    {
     "data": {
      "text/html": [
       "<div>\n",
       "<style scoped>\n",
       "    .dataframe tbody tr th:only-of-type {\n",
       "        vertical-align: middle;\n",
       "    }\n",
       "\n",
       "    .dataframe tbody tr th {\n",
       "        vertical-align: top;\n",
       "    }\n",
       "\n",
       "    .dataframe thead th {\n",
       "        text-align: right;\n",
       "    }\n",
       "</style>\n",
       "<table border=\"1\" class=\"dataframe\">\n",
       "  <thead>\n",
       "    <tr style=\"text-align: right;\">\n",
       "      <th></th>\n",
       "      <th>dist</th>\n",
       "      <th>alpha</th>\n",
       "      <th>graph_type</th>\n",
       "      <th>graph_param</th>\n",
       "      <th>n</th>\n",
       "      <th>stat</th>\n",
       "      <th>iter</th>\n",
       "      <th>sigma</th>\n",
       "    </tr>\n",
       "  </thead>\n",
       "  <tbody>\n",
       "    <tr>\n",
       "      <th>0</th>\n",
       "      <td>stable</td>\n",
       "      <td>1.0</td>\n",
       "      <td>knn</td>\n",
       "      <td>5.0</td>\n",
       "      <td>100</td>\n",
       "      <td>10</td>\n",
       "      <td>0</td>\n",
       "      <td>NaN</td>\n",
       "    </tr>\n",
       "    <tr>\n",
       "      <th>1</th>\n",
       "      <td>stable</td>\n",
       "      <td>1.0</td>\n",
       "      <td>knn</td>\n",
       "      <td>5.0</td>\n",
       "      <td>100</td>\n",
       "      <td>10</td>\n",
       "      <td>1</td>\n",
       "      <td>NaN</td>\n",
       "    </tr>\n",
       "    <tr>\n",
       "      <th>2</th>\n",
       "      <td>stable</td>\n",
       "      <td>1.0</td>\n",
       "      <td>knn</td>\n",
       "      <td>5.0</td>\n",
       "      <td>100</td>\n",
       "      <td>9</td>\n",
       "      <td>2</td>\n",
       "      <td>NaN</td>\n",
       "    </tr>\n",
       "    <tr>\n",
       "      <th>3</th>\n",
       "      <td>stable</td>\n",
       "      <td>1.0</td>\n",
       "      <td>knn</td>\n",
       "      <td>5.0</td>\n",
       "      <td>100</td>\n",
       "      <td>10</td>\n",
       "      <td>3</td>\n",
       "      <td>NaN</td>\n",
       "    </tr>\n",
       "    <tr>\n",
       "      <th>4</th>\n",
       "      <td>stable</td>\n",
       "      <td>1.0</td>\n",
       "      <td>knn</td>\n",
       "      <td>5.0</td>\n",
       "      <td>100</td>\n",
       "      <td>9</td>\n",
       "      <td>4</td>\n",
       "      <td>NaN</td>\n",
       "    </tr>\n",
       "  </tbody>\n",
       "</table>\n",
       "</div>"
      ],
      "text/plain": [
       "     dist  alpha graph_type  graph_param    n  stat  iter  sigma\n",
       "0  stable    1.0        knn          5.0  100    10     0    NaN\n",
       "1  stable    1.0        knn          5.0  100    10     1    NaN\n",
       "2  stable    1.0        knn          5.0  100     9     2    NaN\n",
       "3  stable    1.0        knn          5.0  100    10     3    NaN\n",
       "4  stable    1.0        knn          5.0  100     9     4    NaN"
      ]
     },
     "execution_count": 16,
     "metadata": {},
     "output_type": "execute_result"
    }
   ],
   "source": [
    "# Объединяем все результаты\n",
    "results_df = pd.concat(results_list, ignore_index=True)\n",
    "results_df.head()"
   ]
  },
  {
   "cell_type": "markdown",
   "metadata": {},
   "source": [
    "## 5) Агрегация и просмотр статистик"
   ]
  },
  {
   "cell_type": "code",
   "execution_count": 17,
   "metadata": {},
   "outputs": [
    {
     "data": {
      "text/html": [
       "<div>\n",
       "<style scoped>\n",
       "    .dataframe tbody tr th:only-of-type {\n",
       "        vertical-align: middle;\n",
       "    }\n",
       "\n",
       "    .dataframe tbody tr th {\n",
       "        vertical-align: top;\n",
       "    }\n",
       "\n",
       "    .dataframe thead th {\n",
       "        text-align: right;\n",
       "    }\n",
       "</style>\n",
       "<table border=\"1\" class=\"dataframe\">\n",
       "  <thead>\n",
       "    <tr style=\"text-align: right;\">\n",
       "      <th></th>\n",
       "      <th>dist</th>\n",
       "      <th>graph_type</th>\n",
       "      <th>graph_param</th>\n",
       "      <th>n</th>\n",
       "      <th>mean</th>\n",
       "      <th>std</th>\n",
       "    </tr>\n",
       "  </thead>\n",
       "  <tbody>\n",
       "    <tr>\n",
       "      <th>0</th>\n",
       "      <td>normal</td>\n",
       "      <td>dist</td>\n",
       "      <td>0.5</td>\n",
       "      <td>100</td>\n",
       "      <td>25.32</td>\n",
       "      <td>2.518827</td>\n",
       "    </tr>\n",
       "    <tr>\n",
       "      <th>1</th>\n",
       "      <td>normal</td>\n",
       "      <td>dist</td>\n",
       "      <td>1.0</td>\n",
       "      <td>100</td>\n",
       "      <td>42.94</td>\n",
       "      <td>3.688980</td>\n",
       "    </tr>\n",
       "    <tr>\n",
       "      <th>2</th>\n",
       "      <td>normal</td>\n",
       "      <td>knn</td>\n",
       "      <td>5.0</td>\n",
       "      <td>100</td>\n",
       "      <td>9.16</td>\n",
       "      <td>0.650275</td>\n",
       "    </tr>\n",
       "    <tr>\n",
       "      <th>3</th>\n",
       "      <td>normal</td>\n",
       "      <td>knn</td>\n",
       "      <td>10.0</td>\n",
       "      <td>100</td>\n",
       "      <td>17.00</td>\n",
       "      <td>0.880631</td>\n",
       "    </tr>\n",
       "    <tr>\n",
       "      <th>4</th>\n",
       "      <td>stable</td>\n",
       "      <td>dist</td>\n",
       "      <td>0.5</td>\n",
       "      <td>100</td>\n",
       "      <td>19.86</td>\n",
       "      <td>2.777534</td>\n",
       "    </tr>\n",
       "    <tr>\n",
       "      <th>5</th>\n",
       "      <td>stable</td>\n",
       "      <td>dist</td>\n",
       "      <td>1.0</td>\n",
       "      <td>100</td>\n",
       "      <td>32.82</td>\n",
       "      <td>3.305469</td>\n",
       "    </tr>\n",
       "    <tr>\n",
       "      <th>6</th>\n",
       "      <td>stable</td>\n",
       "      <td>knn</td>\n",
       "      <td>5.0</td>\n",
       "      <td>100</td>\n",
       "      <td>9.70</td>\n",
       "      <td>0.462910</td>\n",
       "    </tr>\n",
       "    <tr>\n",
       "      <th>7</th>\n",
       "      <td>stable</td>\n",
       "      <td>knn</td>\n",
       "      <td>10.0</td>\n",
       "      <td>100</td>\n",
       "      <td>18.36</td>\n",
       "      <td>0.875051</td>\n",
       "    </tr>\n",
       "  </tbody>\n",
       "</table>\n",
       "</div>"
      ],
      "text/plain": [
       "     dist graph_type  graph_param    n   mean       std\n",
       "0  normal       dist          0.5  100  25.32  2.518827\n",
       "1  normal       dist          1.0  100  42.94  3.688980\n",
       "2  normal        knn          5.0  100   9.16  0.650275\n",
       "3  normal        knn         10.0  100  17.00  0.880631\n",
       "4  stable       dist          0.5  100  19.86  2.777534\n",
       "5  stable       dist          1.0  100  32.82  3.305469\n",
       "6  stable        knn          5.0  100   9.70  0.462910\n",
       "7  stable        knn         10.0  100  18.36  0.875051"
      ]
     },
     "execution_count": 17,
     "metadata": {},
     "output_type": "execute_result"
    }
   ],
   "source": [
    "agg = aggregate_results(results_df)\n",
    "agg"
   ]
  },
  {
   "cell_type": "markdown",
   "metadata": {},
   "source": [
    "## 6) Визуализация результатов"
   ]
  },
  {
   "cell_type": "code",
   "execution_count": 18,
   "metadata": {},
   "outputs": [
    {
     "data": {
      "image/png": "[encoded data removed]",
      "text/plain": [
       "<Figure size 800x600 with 1 Axes>"
      ]
     },
     "metadata": {},
     "output_type": "display_data"
    }
   ],
   "source": [
    "plt.figure(figsize=(8, 6))\n",
    "for (dist, graph_type), group in agg.groupby(['dist', 'graph_type']):\n",
    "    plt.errorbar(\n",
    "        group['graph_param'],\n",
    "        group['mean'],\n",
    "        yerr=group['std'],\n",
    "        fmt='o-',\n",
    "        label=f\"{dist}-{graph_type}\"\n",
    "    )\n",
    "\n",
    "plt.xlabel('graph_param (k or d)')\n",
    "plt.ylabel('statistic mean ± std')\n",
    "plt.title(f\"Monte Carlo: n={n}, iter={n_iter}\")\n",
    "plt.legend()\n",
    "plt.grid(True)\n",
    "plt.show()"
   ]
  },
  {
   "cell_type": "markdown",
   "metadata": {},
   "source": [
    "## 7) распределение статистики"
   ]
  },
  {
   "cell_type": "code",
   "execution_count": 19,
   "metadata": {},
   "outputs": [
    {
     "data": {
      "image/png": "[encoded data removed]",
      "text/plain": [
       "<Figure size 600x400 with 1 Axes>"
      ]
     },
     "metadata": {},
     "output_type": "display_data"
    }
   ],
   "source": [
    "example = results_df[\n",
    "    (results_df['dist']=='stable') &\n",
    "    (results_df['graph_type']=='knn') &\n",
    "    (results_df['graph_param']==5)\n",
    "]\n",
    "plt.figure(figsize=(6,4))\n",
    "plt.hist(example['stat'], bins=20)\n",
    "plt.title('Распределение Δ(G) при stable α=1.0 и k=5')\n",
    "plt.xlabel('Δ(G)')\n",
    "plt.ylabel('Частота')\n",
    "plt.show()\n"
   ]
  },
  {
   "cell_type": "code",
   "execution_count": null,
   "metadata": {},
   "outputs": [],
   "source": []
  }
 ],
 "metadata": {
  "kernelspec": {
   "display_name": "Python 3",
   "language": "python",
   "name": "python3"
  },
  "language_info": {
   "codemirror_mode": {
    "name": "ipython",
    "version": 3
   },
   "file_extension": ".py",
   "mimetype": "text/x-python",
   "name": "python",
   "nbconvert_exporter": "python",
   "pygments_lexer": "ipython3",
   "version": "3.12.0"
  },
  "orig_nbformat": 4
 },
 "nbformat": 4,
 "nbformat_minor": 2
}
